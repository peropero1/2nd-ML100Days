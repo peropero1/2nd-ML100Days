{
 "cells": [
  {
   "cell_type": "markdown",
   "metadata": {},
   "source": [
    "## p.48 陣列的重塑(reshape())"
   ]
  },
  {
   "cell_type": "code",
   "execution_count": 1,
   "metadata": {},
   "outputs": [],
   "source": [
    "import numpy as np"
   ]
  },
  {
   "cell_type": "code",
   "execution_count": 3,
   "metadata": {},
   "outputs": [
    {
     "name": "stdout",
     "output_type": "stream",
     "text": [
      "[1 2 3 4 5 6 7 8 9]\n",
      "[[1 2 3]\n",
      " [4 5 6]\n",
      " [7 8 9]]\n"
     ]
    }
   ],
   "source": [
    "grid=np.arange(1,10)\n",
    "print(grid)\n",
    "grid_reshape=grid.reshape((3,3))\n",
    "    #newshape: int or tuple of ints\n",
    "print(grid_reshape)\n",
    "np.reshape()"
   ]
  },
  {
   "cell_type": "code",
   "execution_count": 28,
   "metadata": {},
   "outputs": [
    {
     "name": "stdout",
     "output_type": "stream",
     "text": [
      "(3,)\n",
      "[[1 2 3]\n",
      " [4 5 6]\n",
      " [7 8 9]] (3, 3)\n",
      "[[1 2 3 9]\n",
      " [4 5 6 9]\n",
      " [7 8 9 9]]\n",
      "[[1 2 9 3]\n",
      " [4 5 9 6]\n",
      " [7 8 9 9]]\n",
      "[[1 2 3]\n",
      " [4 5 6]\n",
      " [9 9 9]\n",
      " [7 8 9]]\n"
     ]
    }
   ],
   "source": [
    "#一維轉成column/row of 二維array\n",
    "x=np.array([9,9,9])\n",
    "print(x.shape)\n",
    "    #(3,)\n",
    "y=np.arange(1,10).reshape((3,3))\n",
    "print(y,y.shape)\n",
    "\n",
    "# 把x接在y的column 3，其shape應為(3,1)---np.append()\n",
    "x.reshape((3,1))\n",
    "y_append=np.append(y,x.reshape((3,1)),axis=1)\n",
    "print(y_append)\n",
    "\n",
    "#把x加入y的column 2---insert\n",
    "y_append2=np.insert(y,[2],x.reshape((3,1)),axis=1)\n",
    "    # np.insert(arr, obj, values, axis=None)\n",
    "    # arr: input array\n",
    "    # obj : int, slice or sequence of ints\n",
    "    #       Object that defines the index or indices before which `values` is inserted. \n",
    "    # values:  array_like\n",
    "    # 不同型態的obj會產生不同的結果\n",
    "print(y_append2)\n",
    "\n",
    "#把x加入y的row 2\n",
    "y_append3=np.insert(y,2,x,axis=0)\n",
    "print(y_append3)"
   ]
  },
  {
   "cell_type": "markdown",
   "metadata": {},
   "source": [
    "##  陣列的串接和分割-np.concatenate() / np. split()"
   ]
  },
  {
   "cell_type": "markdown",
   "metadata": {},
   "source": [
    "### 1. 串接"
   ]
  },
  {
   "cell_type": "code",
   "execution_count": 31,
   "metadata": {},
   "outputs": [
    {
     "data": {
      "text/plain": [
       "array([1, 2, 3, 4, 5, 6])"
      ]
     },
     "execution_count": 31,
     "metadata": {},
     "output_type": "execute_result"
    }
   ],
   "source": [
    "#串接\n",
    "x=np.array([1,2,3])\n",
    "y=np.array([4,5,6])\n",
    "np.concatenate([x,y])\n",
    "    # np.concatenate((a1, a2, ...), axis=0, out=None)\n",
    "    # a1, a2, ... : sequence of array_like\n",
    "    # axis : int, optional\n",
    "    #  The axis along which the arrays will be joined.  \n",
    "    #  If axis is None,arrays are flattened before use.  Default is 0.\n",
    "    # out : ndarray, optional\n",
    "    #  If provided, the destination to place the result. The shape must be correct,\n",
    "    #  matching that of what concatenate would have returned if no out argument were specified."
   ]
  },
  {
   "cell_type": "code",
   "execution_count": 32,
   "metadata": {},
   "outputs": [
    {
     "data": {
      "text/plain": [
       "array([1, 2, 3, 4, 5, 6, 9, 9, 9])"
      ]
     },
     "execution_count": 32,
     "metadata": {},
     "output_type": "execute_result"
    }
   ],
   "source": [
    "#串接多個array\n",
    "z=[9,9,9]\n",
    "np.concatenate([x,y,z])"
   ]
  },
  {
   "cell_type": "code",
   "execution_count": 38,
   "metadata": {},
   "outputs": [
    {
     "name": "stdout",
     "output_type": "stream",
     "text": [
      "[[1 2 3]\n",
      " [4 5 6]\n",
      " [7 8 9]\n",
      " [1 2 3]\n",
      " [4 5 6]\n",
      " [7 8 9]] \n",
      "\n",
      " [[1 2 3 1 2 3]\n",
      " [4 5 6 4 5 6]\n",
      " [7 8 9 7 8 9]]\n"
     ]
    }
   ],
   "source": [
    "#二維的串接--相同維度\n",
    "grid=np.arange(1,10).reshape((3,3))\n",
    "A=np.concatenate([grid,grid],axis=0)\n",
    "    # 垂直方向的串接\n",
    "B=np.concatenate([grid,grid],axis=1)\n",
    "    # 水平方向的串接\n",
    "print(A,'\\n\\n',B)"
   ]
  },
  {
   "cell_type": "code",
   "execution_count": 10,
   "metadata": {},
   "outputs": [
    {
     "name": "stdout",
     "output_type": "stream",
     "text": [
      "[[1 2 3]\n",
      " [9 8 7]\n",
      " [6 5 4]]\n",
      "[[ 9  8  7 99]\n",
      " [ 6  5  4 99]]\n"
     ]
    }
   ],
   "source": [
    "#二維的串接--不同維度  np.vstack/ np.hstack(垂直/水平堆疊)\n",
    "x=np.array([1,2,3])\n",
    "grid=np.array([[9,8,7],\n",
    "               [6,5,4]])\n",
    "print(np.vstack([x,grid]))\n",
    "    #先x後grid\n",
    "y=np.array([[99],[99]])\n",
    "print(np.hstack([grid,y]))\n",
    "    #和append/insert有相同效果"
   ]
  },
  {
   "cell_type": "markdown",
   "metadata": {},
   "source": [
    "### 2. 分割"
   ]
  },
  {
   "cell_type": "code",
   "execution_count": 11,
   "metadata": {},
   "outputs": [
    {
     "name": "stdout",
     "output_type": "stream",
     "text": [
      "[1 2 3] [99 57] [ 23 478  15]\n"
     ]
    }
   ],
   "source": [
    "#np.split\n",
    "x=[1,2,3,99,57,23,478,15]\n",
    "x1,x2,x3=np.split(x,[3,5])\n",
    "    # np.split(ary, indices_or_sections, axis=0)\n",
    "    # 透過indeces/sections->陣列索引值來指定要分割的點: [3,5]->切成[0:2],[3:4],[5:]\n",
    "    # n個分割點會產生n+1個子陣列\n",
    "print(x1,x2,x3)"
   ]
  },
  {
   "cell_type": "code",
   "execution_count": 13,
   "metadata": {},
   "outputs": [
    {
     "name": "stdout",
     "output_type": "stream",
     "text": [
      "[[ 0  1  2  3]\n",
      " [ 4  5  6  7]\n",
      " [ 8  9 10 11]\n",
      " [12 13 14 15]]\n",
      "[[ 0  1]\n",
      " [ 4  5]\n",
      " [ 8  9]\n",
      " [12 13]] \n",
      "\n",
      " [[ 2  3]\n",
      " [ 6  7]\n",
      " [10 11]\n",
      " [14 15]]\n",
      "[[0 1 2 3]\n",
      " [4 5 6 7]] \n",
      "\n",
      " [[ 8  9 10 11]\n",
      " [12 13 14 15]]\n"
     ]
    }
   ],
   "source": [
    "#np.hsplit/ np.vsplit\n",
    "grid=np.arange(16).reshape((4,4))\n",
    "print(grid)\n",
    "\n",
    "left,right=np.hsplit(grid,[2])\n",
    "    #hsplit 是往column方向切\n",
    "print(left,'\\n\\n',right\n",
    "\n",
    "up,low=np.vsplit(grid,[2])\n",
    "    #vsplit是往row方向切\n",
    "print(up,'\\n\\n',low)"
   ]
  },
  {
   "cell_type": "code",
   "execution_count": null,
   "metadata": {},
   "outputs": [],
   "source": []
  }
 ],
 "metadata": {
  "kernelspec": {
   "display_name": "Python 3",
   "language": "python",
   "name": "python3"
  },
  "language_info": {
   "codemirror_mode": {
    "name": "ipython",
    "version": 3
   },
   "file_extension": ".py",
   "mimetype": "text/x-python",
   "name": "python",
   "nbconvert_exporter": "python",
   "pygments_lexer": "ipython3",
   "version": "3.6.2"
  }
 },
 "nbformat": 4,
 "nbformat_minor": 2
}
